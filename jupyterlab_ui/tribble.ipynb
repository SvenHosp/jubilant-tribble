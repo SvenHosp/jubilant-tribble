{
 "cells": [
  {
   "cell_type": "markdown",
   "id": "efe343dd-9a9d-4e07-ace8-399dc2296e85",
   "metadata": {},
   "source": [
    "# Tribble Dashboard"
   ]
  },
  {
   "cell_type": "markdown",
   "id": "8d9ab65f-ac8d-4eec-9452-a775974d4d06",
   "metadata": {},
   "source": [
    "## Worktime Analyze\n",
    "Enter the timespan to be analyzed:"
   ]
  },
  {
   "cell_type": "code",
   "execution_count": null,
   "id": "462f65cf-9257-4a6f-ac9c-57de07eef55b",
   "metadata": {
    "tags": []
   },
   "outputs": [],
   "source": [
    "timespan_begin=\"30.03.2023\"\n",
    "timespan_end  =\"03.04.2023\""
   ]
  },
  {
   "cell_type": "markdown",
   "id": "6f3bb527-ffa9-4226-85a7-b1f99a61a955",
   "metadata": {},
   "source": [
    "Execute this cell get hours sorted by day and symbol:"
   ]
  },
  {
   "cell_type": "code",
   "execution_count": null,
   "id": "7623df09-99cb-44df-a87b-ec83cbc41216",
   "metadata": {
    "tags": []
   },
   "outputs": [],
   "source": [
    "from datetime import datetime, timedelta\n",
    "import pytz\n",
    "import sqlite3\n",
    "import os\n",
    "import time\n",
    "from IPython.display import clear_output\n",
    "\n",
    "def analyse_day(timeslot_list):\n",
    "    timeslot_dict = {}\n",
    "    for timeslot in timeslot_list:\n",
    "        begin_tz = datetime.strptime(timeslot[0], \"%Y-%m-%d %H:%M:%S\").replace(tzinfo=pytz.utc).astimezone(pytz.timezone('Europe/Berlin'))\n",
    "        end_tz = datetime.strptime(timeslot[1], \"%Y-%m-%d %H:%M:%S\").replace(tzinfo=pytz.utc).astimezone(pytz.timezone('Europe/Berlin'))\n",
    "        difference = end_tz - begin_tz\n",
    "        \n",
    "        if timeslot[2] not in timeslot_dict.keys():\n",
    "            timeslot_dict[timeslot[2]] = timedelta(days=0)\n",
    "        timeslot_dict[timeslot[2]] = timeslot_dict[timeslot[2]] + difference\n",
    "    return timeslot_dict   \n",
    "\n",
    "tribble_db_fqn = f\"{os.getenv('JUBILANT_TRIBBLE_DATABASE')}\"\n",
    "\n",
    "con = sqlite3.connect(tribble_db_fqn)\n",
    "\n",
    "cur = con.cursor()\n",
    "\n",
    "timespan_begin_obj = datetime.strptime(timespan_begin, \"%d.%m.%Y\")\n",
    "timespan_end_obj = datetime.strptime(timespan_end, \"%d.%m.%Y\")\n",
    "timespan_end_obj_loop = timespan_end_obj + timedelta(days=1)\n",
    "\n",
    "current_day = timespan_begin_obj\n",
    "\n",
    "while current_day != timespan_end_obj_loop:\n",
    "    current_day_tz = current_day.astimezone(pytz.timezone('Europe/Berlin'))\n",
    "    current_day_utc_begin = current_day_tz.astimezone(pytz.utc)\n",
    "    current_day_utc_end = current_day_utc_begin + timedelta(days=1)\n",
    "    \n",
    "    current_day_utc_begin_string = current_day_utc_begin.strftime(\"%Y-%m-%d %H:%M:%S\")\n",
    "    current_day_utc_end_string = current_day_utc_end.strftime(\"%Y-%m-%d %H:%M:%S\")\n",
    "    \n",
    "    res = cur.execute(f\"SELECT timeslot_begin, timeslot_end, symbol FROM worktime w WHERE DATETIME(timeslot_begin) >= DATETIME('{current_day_utc_begin_string}') AND DATETIME(timeslot_begin) < DATETIME('{current_day_utc_end_string}');\")\n",
    "    results_list = res.fetchall()\n",
    "    \n",
    "    analyse_result = analyse_day(results_list)\n",
    "    \n",
    "    if analyse_result != {}:\n",
    "        print(f'\\n---------------\\ndate:{current_day.strftime(\"%d.%m.%Y\")}\\n---------------')\n",
    "        for key, value in analyse_result.items():\n",
    "            print(key, value)\n",
    "    \n",
    "    current_day = current_day + timedelta(days=1)\n",
    "con.close()\n"
   ]
  },
  {
   "cell_type": "code",
   "execution_count": null,
   "id": "cfb7cc1b-8adb-4f22-a245-a9d10b079765",
   "metadata": {},
   "outputs": [],
   "source": [
    "from datetime import datetime, timedelta\n",
    "import pytz\n",
    "import sqlite3\n",
    "import os\n",
    "import time\n",
    "import plotly.express as px\n",
    "import pandas as pd\n",
    "\n",
    "def analyse_day(timeslot_list):\n",
    "    timeslot_dict_list = []\n",
    "    Task_id_iterator = 0\n",
    "    for timeslot in timeslot_list:\n",
    "        \n",
    "        begin_tz = datetime.strptime(timeslot[0], \"%Y-%m-%d %H:%M:%S\").replace(tzinfo=pytz.utc).astimezone(pytz.timezone('Europe/Berlin'))\n",
    "        end_tz = datetime.strptime(timeslot[1], \"%Y-%m-%d %H:%M:%S\").replace(tzinfo=pytz.utc).astimezone(pytz.timezone('Europe/Berlin'))\n",
    "        \n",
    "        timeslot_dict_list.append(dict(Task=f\"Job_{Task_id_iterator}\", Start=begin_tz, Finish=end_tz, Resource=timeslot[2]))\n",
    "        \n",
    "        Task_id_iterator = Task_id_iterator + 1\n",
    "    \n",
    "    df = pd.DataFrame(timeslot_dict_list)\n",
    "    return df   \n",
    "\n",
    "tribble_db_fqn = f\"{os.getenv('JUBILANT_TRIBBLE_DATABASE')}\"\n",
    "\n",
    "con = sqlite3.connect(tribble_db_fqn)\n",
    "\n",
    "cur = con.cursor()\n",
    "\n",
    "timespan_begin_obj = datetime.strptime(timespan_begin, \"%d.%m.%Y\")\n",
    "timespan_end_obj = datetime.strptime(timespan_end, \"%d.%m.%Y\")\n",
    "timespan_end_obj_loop = timespan_end_obj + timedelta(days=1)\n",
    "\n",
    "current_day = timespan_begin_obj\n",
    "\n",
    "while current_day != timespan_end_obj_loop:\n",
    "    current_day_tz = current_day.astimezone(pytz.timezone('Europe/Berlin'))\n",
    "    current_day_utc_begin = current_day_tz.astimezone(pytz.utc)\n",
    "    current_day_utc_end = current_day_utc_begin + timedelta(days=1)\n",
    "    \n",
    "    current_day_utc_begin_string = current_day_utc_begin.strftime(\"%Y-%m-%d %H:%M:%S\")\n",
    "    current_day_utc_end_string = current_day_utc_end.strftime(\"%Y-%m-%d %H:%M:%S\")\n",
    "    \n",
    "    res = cur.execute(f\"SELECT timeslot_begin, timeslot_end, symbol FROM worktime w WHERE DATETIME(timeslot_begin) >= DATETIME('{current_day_utc_begin_string}') AND DATETIME(timeslot_begin) < DATETIME('{current_day_utc_end_string}');\")\n",
    "    results_list = res.fetchall()\n",
    "    \n",
    "    if results_list != []:\n",
    "\n",
    "        df = analyse_day(results_list)\n",
    "\n",
    "        # https://plotly.com/python/gantt/\n",
    "        fig = px.timeline(df, x_start=\"Start\", x_end=\"Finish\", y=\"Resource\", color=\"Resource\")\n",
    "        print(f'\\n---------------\\ndate:{current_day.strftime(\"%d.%m.%Y\")}\\n---------------')\n",
    "        fig.show()\n",
    "\n",
    "    current_day = current_day + timedelta(days=1)\n",
    "con.close()"
   ]
  },
  {
   "cell_type": "code",
   "execution_count": null,
   "id": "59904f14-4354-4fb9-8eb5-e8b850f268fe",
   "metadata": {},
   "outputs": [],
   "source": []
  }
 ],
 "metadata": {
  "kernelspec": {
   "display_name": "Python 3 (ipykernel)",
   "language": "python",
   "name": "python3"
  },
  "language_info": {
   "codemirror_mode": {
    "name": "ipython",
    "version": 3
   },
   "file_extension": ".py",
   "mimetype": "text/x-python",
   "name": "python",
   "nbconvert_exporter": "python",
   "pygments_lexer": "ipython3",
   "version": "3.11.2"
  }
 },
 "nbformat": 4,
 "nbformat_minor": 5
}
