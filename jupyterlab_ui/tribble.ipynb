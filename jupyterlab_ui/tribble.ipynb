{
 "cells": [
  {
   "cell_type": "markdown",
   "id": "efe343dd-9a9d-4e07-ace8-399dc2296e85",
   "metadata": {},
   "source": [
    "# Tribble Dashboard"
   ]
  },
  {
   "cell_type": "markdown",
   "id": "8d9ab65f-ac8d-4eec-9452-a775974d4d06",
   "metadata": {},
   "source": [
    "## Worktime Analyze\n",
    "Enter the timespan to be analyzed:"
   ]
  },
  {
   "cell_type": "code",
   "execution_count": 54,
   "id": "462f65cf-9257-4a6f-ac9c-57de07eef55b",
   "metadata": {
    "tags": []
   },
   "outputs": [],
   "source": [
    "timespan_begin=\"01.03.2023\"\n",
    "timespan_end  =\"31.03.2023\""
   ]
  },
  {
   "cell_type": "code",
   "execution_count": 56,
   "id": "7623df09-99cb-44df-a87b-ec83cbc41216",
   "metadata": {
    "tags": []
   },
   "outputs": [
    {
     "name": "stdout",
     "output_type": "stream",
     "text": [
      "\n",
      "---------------\n",
      "date:01.03.2023\n",
      "---------------\n",
      "common 6:45:00\n",
      "\n",
      "---------------\n",
      "date:02.03.2023\n",
      "---------------\n",
      "common 6:10:00\n",
      "\n"
     ]
    }
   ],
   "source": [
    "from datetime import datetime, timedelta\n",
    "from pytz import timezone\n",
    "import sqlite3\n",
    "import os\n",
    "import time\n",
    "from IPython.display import clear_output\n",
    "\n",
    "def analyse_day(timeslot_list):\n",
    "    timeslot_dict = {}\n",
    "    for timeslot in timeslot_list:\n",
    "        begin_tz = datetime.strptime(timeslot[0], \"%Y-%m-%d %H:%M:%S\").replace(tzinfo=pytz.utc).astimezone(timezone('Europe/Berlin'))\n",
    "        end_tz = datetime.strptime(timeslot[1], \"%Y-%m-%d %H:%M:%S\").replace(tzinfo=pytz.utc).astimezone(timezone('Europe/Berlin'))\n",
    "        difference = end_tz - begin_tz\n",
    "        \n",
    "        if timeslot[2] not in timeslot_dict.keys():\n",
    "            timeslot_dict[timeslot[2]] = timedelta(days=0)\n",
    "        timeslot_dict[timeslot[2]] = timeslot_dict[timeslot[2]] + difference\n",
    "    return timeslot_dict   \n",
    "\n",
    "tribble_db_fqn = f\"{os.getenv('JUBILANT_TRIBBLE_DATABASE')}\"\n",
    "\n",
    "con = sqlite3.connect(tribble_db_fqn)\n",
    "\n",
    "cur = con.cursor()\n",
    "\n",
    "timespan_begin_obj = datetime.strptime(timespan_begin, \"%d.%m.%Y\")\n",
    "timespan_end_obj = datetime.strptime(timespan_end, \"%d.%m.%Y\")\n",
    "timespan_end_obj_loop = timespan_end_obj + timedelta(days=1)\n",
    "\n",
    "current_day = timespan_begin_obj\n",
    "\n",
    "while current_day != timespan_end_obj_loop:\n",
    "    current_day_tz = current_day.astimezone(timezone('Europe/Berlin'))\n",
    "    current_day_utc_begin = current_day_tz.astimezone(pytz.utc)\n",
    "    current_day_utc_end = current_day_utc_begin + timedelta(days=1)\n",
    "    \n",
    "    current_day_utc_begin_string = current_day_utc_begin.strftime(\"%Y-%m-%d %H:%M:%S\")\n",
    "    current_day_utc_end_string = current_day_utc_end.strftime(\"%Y-%m-%d %H:%M:%S\")\n",
    "    \n",
    "    res = cur.execute(f\"SELECT timeslot_begin, timeslot_end, symbol FROM worktime w WHERE DATETIME(timeslot_begin) >= DATETIME('{current_day_utc_begin_string}') AND DATETIME(timeslot_begin) < DATETIME('{current_day_utc_end_string}');\")\n",
    "    results_list = res.fetchall()\n",
    "    \n",
    "    analyse_result = analyse_day(results_list)\n",
    "    \n",
    "    if analyse_result != {}:\n",
    "        print(f'\\n---------------\\ndate:{current_day.strftime(\"%d.%m.%Y\")}\\n---------------')\n",
    "        for key, value in analyse_result.items():\n",
    "            print(key, value)\n",
    "    \n",
    "    current_day = current_day + timedelta(days=1)\n"
   ]
  },
  {
   "cell_type": "code",
   "execution_count": null,
   "id": "cfb7cc1b-8adb-4f22-a245-a9d10b079765",
   "metadata": {},
   "outputs": [],
   "source": []
  }
 ],
 "metadata": {
  "kernelspec": {
   "display_name": "Python 3 (ipykernel)",
   "language": "python",
   "name": "python3"
  },
  "language_info": {
   "codemirror_mode": {
    "name": "ipython",
    "version": 3
   },
   "file_extension": ".py",
   "mimetype": "text/x-python",
   "name": "python",
   "nbconvert_exporter": "python",
   "pygments_lexer": "ipython3",
   "version": "3.11.2"
  }
 },
 "nbformat": 4,
 "nbformat_minor": 5
}
