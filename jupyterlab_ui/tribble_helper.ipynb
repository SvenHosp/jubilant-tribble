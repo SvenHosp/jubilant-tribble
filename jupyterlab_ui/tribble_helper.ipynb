{
 "cells": [
  {
   "attachments": {},
   "cell_type": "markdown",
   "id": "944e102f-fd56-4240-b7f1-1f87c4b160aa",
   "metadata": {},
   "source": [
    "# Tribble Helper\n",
    "\n",
    "Helper Notebook with dates and so on."
   ]
  },
  {
   "cell_type": "code",
   "execution_count": null,
   "id": "883a08b0",
   "metadata": {},
   "outputs": [],
   "source": [
    "timestamp = \"12.03.2023\""
   ]
  },
  {
   "cell_type": "code",
   "execution_count": null,
   "id": "86c74bd4",
   "metadata": {},
   "outputs": [],
   "source": [
    "from datetime import datetime\n",
    "import pytz\n",
    "\n",
    "timestamp_raw = datetime.strptime(timestamp, \"%d.%m.%Y\")\n",
    "\n",
    "local_tz = pytz.timezone('Europe/Berlin')\n",
    "timestamp_local = local_tz.localize(timestamp_raw)\n",
    "\n",
    "timestamp_utc = timestamp_local.astimezone(pytz.utc)\n",
    "\n",
    "print(f\"{timestamp_local} -> {timestamp_utc}\")"
   ]
  },
  {
   "cell_type": "code",
   "execution_count": null,
   "id": "629f3d2b",
   "metadata": {},
   "outputs": [],
   "source": [
    "from datetime import datetime\n",
    "import pytz\n",
    "\n",
    "timestamp_utc = pytz.utc.localize(datetime.strptime(timestamp, \"%d.%m.%Y\"))\n",
    "timestamp_local = timestamp_utc.astimezone(pytz.timezone('Europe/Berlin'))\n",
    "\n",
    "print(f\"{timestamp_utc} -> {timestamp_local}\")"
   ]
  },
  {
   "cell_type": "code",
   "execution_count": null,
   "id": "c579ae07",
   "metadata": {},
   "outputs": [],
   "source": []
  }
 ],
 "metadata": {
  "kernelspec": {
   "display_name": "Python 3 (ipykernel)",
   "language": "python",
   "name": "python3"
  },
  "language_info": {
   "codemirror_mode": {
    "name": "ipython",
    "version": 3
   },
   "file_extension": ".py",
   "mimetype": "text/x-python",
   "name": "python",
   "nbconvert_exporter": "python",
   "pygments_lexer": "ipython3",
   "version": "3.11.2"
  }
 },
 "nbformat": 4,
 "nbformat_minor": 5
}
