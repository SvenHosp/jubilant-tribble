{
 "cells": [
  {
   "attachments": {},
   "cell_type": "markdown",
   "id": "944e102f-fd56-4240-b7f1-1f87c4b160aa",
   "metadata": {},
   "source": [
    "# Tribble Saldo\n",
    "\n",
    "calculate workings hours saldo."
   ]
  },
  {
   "cell_type": "code",
   "execution_count": 59,
   "id": "84915c6a",
   "metadata": {},
   "outputs": [],
   "source": [
    "time_span=\"01.01.2023-31.12.2023\"\n",
    "country=\"germany\"\n",
    "territory=\"B\""
   ]
  },
  {
   "cell_type": "code",
   "execution_count": 61,
   "id": "efae581b",
   "metadata": {},
   "outputs": [],
   "source": [
    "import os\n",
    "from datetime import datetime, timedelta\n",
    "import pytz\n",
    "from dateutil.easter import easter\n",
    "\n",
    "reference_functions = {\n",
    "    \"easter\": easter\n",
    "}\n",
    "\n",
    "day_span_list = time_span.split('-')\n",
    "\n",
    "day_span_begin_local = pytz.timezone('Europe/Berlin').localize(datetime.strptime(day_span_list[0], \"%d.%m.%Y\"))\n",
    "day_span_end_local = pytz.timezone('Europe/Berlin').localize(datetime.strptime(day_span_list[1], \"%d.%m.%Y\") + timedelta(days=1))\n",
    "\n",
    "year_begin_local = day_span_begin_local.year\n",
    "year_end_local = day_span_end_local.year\n",
    "\n",
    "day_span_begin_utc = day_span_begin_local.astimezone(pytz.utc)\n",
    "day_span_end_utc = day_span_end_local.astimezone(pytz.utc)\n",
    "\n",
    "\n",
    "APPLICATION_PATH = os.getenv('PURRING_TRIBBLE_HOME_APPLICATION')"
   ]
  },
  {
   "attachments": {},
   "cell_type": "markdown",
   "id": "a8c648f2-50d4-4a66-b9c7-88a880bca106",
   "metadata": {},
   "source": [
    "## get holidays"
   ]
  },
  {
   "cell_type": "code",
   "execution_count": 62,
   "id": "e2a6a464-3ad4-4d97-a4e2-b96ddff1c37c",
   "metadata": {},
   "outputs": [],
   "source": [
    "import json\n",
    "from datetime import datetime, timedelta\n",
    "import pytz\n",
    "\n",
    "def check_holiday_in_current_country(country, territory, holiday_dict):\n",
    "    for country_dict in holiday_dict['countries']:\n",
    "        if country == country_dict['name'] and territory in country_dict['territories']:\n",
    "            return True\n",
    "    return False\n",
    "\n",
    "with open(f\"{APPLICATION_PATH}/public_holidays.json\", 'r') as f:\n",
    "  public_holidays_dict = json.load(f)\n",
    "\n",
    "holidays = []\n",
    "\n",
    "for current_year in range(year_begin_local, year_end_local):\n",
    "    for holiday_dict in public_holidays_dict:\n",
    "        if holiday_dict['type'] == 'fix' and check_holiday_in_current_country(country, territory, holiday_dict):\n",
    "            day = datetime.strptime(f\"{holiday_dict['day']}.{current_year}\", \"%d.%m.%Y\").date()\n",
    "        elif holiday_dict['type'] == 'calc' and check_holiday_in_current_country(country, territory, holiday_dict):\n",
    "            day = reference_functions[holiday_dict['formula']['reference']](current_year) + timedelta(days=holiday_dict['formula']['difference'])\n",
    "        holidays.append(day)"
   ]
  },
  {
   "attachments": {},
   "cell_type": "markdown",
   "id": "14ea9c28",
   "metadata": {},
   "source": [
    "## analyze workdays"
   ]
  },
  {
   "cell_type": "code",
   "execution_count": 93,
   "id": "2f25ebc0",
   "metadata": {},
   "outputs": [],
   "source": [
    "import os\n",
    "from datetime import datetime, timedelta\n",
    "import sqlite3\n",
    "import pytz\n",
    "import json\n",
    "\n",
    "tribble_db_fqn = f\"{os.getenv('PURRING_TRIBBLE_DATABASE')}\"\n",
    "\n",
    "con = sqlite3.connect(tribble_db_fqn)\n",
    "\n",
    "cur = con.cursor()\n",
    "\n",
    "def is_workday(current_day):\n",
    "    if current_day.date() in holidays:\n",
    "        return False\n",
    "    return True\n",
    "\n",
    "def get_target_working_hours(current_day):\n",
    "    if not is_workday(current_day):\n",
    "        return timedelta(hours=0)\n",
    "    current_day_utc = current_day.astimezone(pytz.utc)\n",
    "    sql_statement = f\"SELECT hours_distribution FROM worktime_hours w WHERE DATETIME(timeslot_begin) <= DATETIME('{current_day_utc.strftime('%Y-%m-%d %H:%M:%S')}') AND DATETIME(timeslot_end) > DATETIME('{current_day_utc.strftime('%Y-%m-%d %H:%M:%S')}');\"\n",
    "    res = cur.execute(sql_statement)\n",
    "    results_list = res.fetchall()\n",
    "    working_hours_dict = json.loads(results_list[0][0])\n",
    "    return timedelta(hours=working_hours_dict[str(datetime.weekday(current_day))])\n",
    "\n",
    "def get_hours_multiplicator(current_day):\n",
    "    current_day_utc = current_day.astimezone(pytz.utc)\n",
    "    sql_statement = f\"SELECT worktime_multiplicator FROM worktime_special w WHERE DATETIME(timeslot_begin) <= DATETIME('{current_day_utc.strftime('%Y-%m-%d %H:%M:%S')}') AND DATETIME(timeslot_end) > DATETIME('{current_day_utc.strftime('%Y-%m-%d %H:%M:%S')}');\"\n",
    "    res = cur.execute(sql_statement)\n",
    "    results_list = res.fetchall()\n",
    "    if len(results_list) > 0:\n",
    "        return results_list[0][0]\n",
    "    return 1\n",
    "\n",
    "def get_worked_hours(current_day):\n",
    "    current_day_utc = current_day.astimezone(pytz.utc)\n",
    "    sql_statement = f\"SELECT timeslot_begin, timeslot_end FROM worktime w WHERE DATETIME(timeslot_begin) >= DATETIME('{current_day_utc.strftime('%Y-%m-%d %H:%M:%S')}') AND DATETIME(timeslot_begin) < DATETIME('{(current_day_utc + timedelta(days=1)).strftime('%Y-%m-%d %H:%M:%S')}') AND symbol == 'common' AND timeslot_finish == TRUE;\"\n",
    "    res = cur.execute(sql_statement)\n",
    "    results_list = res.fetchall()\n",
    "    if len(results_list) > 0:\n",
    "        difference = timedelta(hours=0)\n",
    "        for timeslot in results_list:\n",
    "            difference = difference + (datetime.strptime(timeslot[1], \"%Y-%m-%d %H:%M:%S\") - datetime.strptime(timeslot[0], \"%Y-%m-%d %H:%M:%S\"))\n",
    "        return difference\n",
    "    return timedelta(hours=0)\n",
    "\n",
    "workday_list = []\n",
    "current_day = day_span_begin_local\n",
    "while current_day <= day_span_end_local:\n",
    "    current_workday_dict = {\n",
    "        \"datetime\": current_day,\n",
    "        \"target_hours\": get_target_working_hours(current_day),\n",
    "        \"worked_hours\": get_worked_hours(current_day),\n",
    "        \"multiplicator\": get_hours_multiplicator(current_day)\n",
    "    }\n",
    "    current_workday_dict[\"needed_hours\"] = current_workday_dict[\"target_hours\"] * current_workday_dict[\"multiplicator\"]\n",
    "    if len(workday_list) == 0:\n",
    "        saldo_needed_yesterday = timedelta(hours=0)\n",
    "        saldo_worked_yesterday = timedelta(hours=0)\n",
    "    else:\n",
    "        saldo_needed_yesterday = workday_list[len(workday_list)-1][\"saldo_needed\"]\n",
    "        saldo_worked_yesterday = workday_list[len(workday_list)-1][\"saldo_worked\"]\n",
    "    current_workday_dict[\"saldo_needed\"] = saldo_needed_yesterday + current_workday_dict[\"needed_hours\"]\n",
    "    current_workday_dict[\"saldo_worked\"] = saldo_worked_yesterday + current_workday_dict[\"worked_hours\"]\n",
    "    workday_list.append(current_workday_dict)\n",
    "    current_day = current_day + timedelta(days=1)\n",
    "#print(len(workday_list))\n",
    "#print(workday_list)\n",
    "\n",
    "con.close()"
   ]
  },
  {
   "cell_type": "code",
   "execution_count": 94,
   "id": "8b5cbe35",
   "metadata": {},
   "outputs": [],
   "source": [
    "import csv\n",
    "\n",
    "with open('result.csv', 'w') as f:  # You will need 'wb' mode in Python 2.x\n",
    "    w = csv.DictWriter(f, workday_list[0].keys())\n",
    "    w.writeheader()\n",
    "    for current_workday_dict in workday_list:\n",
    "        w = csv.DictWriter(f, current_workday_dict)\n",
    "        w.writerow(current_workday_dict)"
   ]
  }
 ],
 "metadata": {
  "kernelspec": {
   "display_name": "Python 3 (ipykernel)",
   "language": "python",
   "name": "python3"
  },
  "language_info": {
   "codemirror_mode": {
    "name": "ipython",
    "version": 3
   },
   "file_extension": ".py",
   "mimetype": "text/x-python",
   "name": "python",
   "nbconvert_exporter": "python",
   "pygments_lexer": "ipython3",
   "version": "3.11.2"
  }
 },
 "nbformat": 4,
 "nbformat_minor": 5
}
