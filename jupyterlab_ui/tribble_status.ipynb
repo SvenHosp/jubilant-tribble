{
 "cells": [
  {
   "attachments": {},
   "cell_type": "markdown",
   "id": "944e102f-fd56-4240-b7f1-1f87c4b160aa",
   "metadata": {},
   "source": [
    "# Tribble Saldo\n",
    "\n",
    "calculate workings hours saldo."
   ]
  },
  {
   "cell_type": "code",
   "execution_count": 11,
   "id": "84915c6a",
   "metadata": {},
   "outputs": [],
   "source": [
    "year_span=\"2022-2023\"\n",
    "country=\"germany\"\n",
    "territory=\"B\""
   ]
  },
  {
   "attachments": {},
   "cell_type": "markdown",
   "id": "a8c648f2-50d4-4a66-b9c7-88a880bca106",
   "metadata": {},
   "source": [
    "## create holidays"
   ]
  },
  {
   "cell_type": "code",
   "execution_count": 24,
   "id": "e2a6a464-3ad4-4d97-a4e2-b96ddff1c37c",
   "metadata": {},
   "outputs": [
    {
     "name": "stdout",
     "output_type": "stream",
     "text": [
      "[datetime.date(2022, 1, 1), datetime.date(2022, 3, 8), datetime.date(2022, 4, 15), datetime.date(2022, 4, 17), datetime.date(2022, 4, 18), datetime.date(2022, 5, 1), datetime.date(2022, 5, 26), datetime.date(2022, 5, 26), datetime.date(2022, 6, 6), datetime.date(2022, 10, 3), datetime.date(2022, 10, 3), datetime.date(2022, 12, 25), datetime.date(2022, 12, 26)]\n",
      "[datetime.date(2023, 1, 1), datetime.date(2023, 3, 8), datetime.date(2023, 4, 7), datetime.date(2023, 4, 9), datetime.date(2023, 4, 10), datetime.date(2023, 5, 1), datetime.date(2023, 5, 18), datetime.date(2023, 5, 18), datetime.date(2023, 5, 29), datetime.date(2023, 10, 3), datetime.date(2023, 10, 3), datetime.date(2023, 12, 25), datetime.date(2023, 12, 26)]\n"
     ]
    }
   ],
   "source": [
    "from dateutil.easter import easter\n",
    "import json\n",
    "import os\n",
    "from datetime import datetime, date, timedelta\n",
    "import pytz\n",
    "\n",
    "def check_holiday_in_current_country(country, territory, holiday_dict):\n",
    "    for country_dict in holiday_dict['countries']:\n",
    "        if country == country_dict['name'] and territory in country_dict['territories']:\n",
    "            return True\n",
    "    return False\n",
    "\n",
    "reference_functions = {\n",
    "    \"easter\": easter\n",
    "}\n",
    "\n",
    "year_span_list = year_span.split('-')\n",
    "\n",
    "year_span_begin = int(year_span_list[0])\n",
    "year_span_end = int(year_span_list[1])\n",
    "\n",
    "APPLICATION_PATH = os.getenv('PURRING_TRIBBLE_HOME_APPLICATION')\n",
    "\n",
    "with open(f\"{APPLICATION_PATH}/public_holidays.json\", 'r') as f:\n",
    "  public_holidays_dict = json.load(f)\n",
    "\n",
    "for current_year in range(year_span_begin, year_span_end+1):\n",
    "    holidays = []\n",
    "    for holiday_dict in public_holidays_dict:\n",
    "        if holiday_dict['type'] == 'fix' and check_holiday_in_current_country(country, territory, holiday_dict):\n",
    "            day = datetime.strptime(f\"{holiday_dict['day']}.{current_year}\", \"%d.%m.%Y\").replace(tzinfo=pytz.utc).date()\n",
    "        elif holiday_dict['type'] == 'calc' and check_holiday_in_current_country(country, territory, holiday_dict):\n",
    "            day = reference_functions[holiday_dict['formula']['reference']](current_year) + timedelta(days=holiday_dict['formula']['difference'])\n",
    "        holidays.append(day)\n",
    "    print(holidays)\n",
    "\n",
    "\n",
    "\n"
   ]
  },
  {
   "cell_type": "code",
   "execution_count": null,
   "id": "d4bceffc-4d28-43b3-b5a2-b70b56bda58f",
   "metadata": {},
   "outputs": [],
   "source": []
  }
 ],
 "metadata": {
  "kernelspec": {
   "display_name": "Python 3 (ipykernel)",
   "language": "python",
   "name": "python3"
  },
  "language_info": {
   "codemirror_mode": {
    "name": "ipython",
    "version": 3
   },
   "file_extension": ".py",
   "mimetype": "text/x-python",
   "name": "python",
   "nbconvert_exporter": "python",
   "pygments_lexer": "ipython3",
   "version": "3.11.2"
  }
 },
 "nbformat": 4,
 "nbformat_minor": 5
}
