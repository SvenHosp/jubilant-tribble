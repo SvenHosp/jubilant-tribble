{
 "cells": [
  {
   "attachments": {},
   "cell_type": "markdown",
   "id": "944e102f-fd56-4240-b7f1-1f87c4b160aa",
   "metadata": {},
   "source": [
    "# Tribble Saldo\n",
    "\n",
    "calculate workings hours saldo."
   ]
  },
  {
   "cell_type": "code",
   "execution_count": null,
   "id": "84915c6a",
   "metadata": {},
   "outputs": [],
   "source": [
    "year_span=\"2022-2023\"\n",
    "country=\"germany\"\n",
    "territory=\"B\""
   ]
  },
  {
   "cell_type": "code",
   "execution_count": null,
   "id": "efae581b",
   "metadata": {},
   "outputs": [],
   "source": [
    "import os\n",
    "from dateutil.easter import easter\n",
    "\n",
    "reference_functions = {\n",
    "    \"easter\": easter\n",
    "}\n",
    "\n",
    "year_span_list = year_span.split('-')\n",
    "\n",
    "year_span_begin = int(year_span_list[0])\n",
    "year_span_end = int(year_span_list[1])\n",
    "\n",
    "APPLICATION_PATH = os.getenv('PURRING_TRIBBLE_HOME_APPLICATION')"
   ]
  },
  {
   "attachments": {},
   "cell_type": "markdown",
   "id": "a8c648f2-50d4-4a66-b9c7-88a880bca106",
   "metadata": {},
   "source": [
    "## get holidays"
   ]
  },
  {
   "cell_type": "code",
   "execution_count": null,
   "id": "e2a6a464-3ad4-4d97-a4e2-b96ddff1c37c",
   "metadata": {},
   "outputs": [],
   "source": [
    "import json\n",
    "from datetime import datetime, timedelta\n",
    "import pytz\n",
    "\n",
    "def check_holiday_in_current_country(country, territory, holiday_dict):\n",
    "    for country_dict in holiday_dict['countries']:\n",
    "        if country == country_dict['name'] and territory in country_dict['territories']:\n",
    "            return True\n",
    "    return False\n",
    "\n",
    "with open(f\"{APPLICATION_PATH}/public_holidays.json\", 'r') as f:\n",
    "  public_holidays_dict = json.load(f)\n",
    "\n",
    "holidays = {}\n",
    "\n",
    "for current_year in range(year_span_begin, year_span_end+1):\n",
    "    _holidays = []\n",
    "    for holiday_dict in public_holidays_dict:\n",
    "        if holiday_dict['type'] == 'fix' and check_holiday_in_current_country(country, territory, holiday_dict):\n",
    "            day = datetime.strptime(f\"{holiday_dict['day']}.{current_year}\", \"%d.%m.%Y\").replace(tzinfo=pytz.utc).date()\n",
    "        elif holiday_dict['type'] == 'calc' and check_holiday_in_current_country(country, territory, holiday_dict):\n",
    "            day = reference_functions[holiday_dict['formula']['reference']](current_year) + timedelta(days=holiday_dict['formula']['difference'])\n",
    "        _holidays.append(day)\n",
    "    holidays[current_year] = _holidays"
   ]
  },
  {
   "attachments": {},
   "cell_type": "markdown",
   "id": "f1aa1b83",
   "metadata": {},
   "source": [
    "## get worktime hours"
   ]
  },
  {
   "cell_type": "code",
   "execution_count": null,
   "id": "d4bceffc-4d28-43b3-b5a2-b70b56bda58f",
   "metadata": {},
   "outputs": [],
   "source": [
    "from datetime import datetime\n",
    "import pytz\n",
    "import sqlite3\n",
    "import os\n",
    "\n",
    "tribble_db_fqn = f\"{os.getenv('PURRING_TRIBBLE_DATABASE')}\"\n",
    "\n",
    "con = sqlite3.connect(tribble_db_fqn)\n",
    "\n",
    "cur = con.cursor()\n",
    "\n",
    "worktime_hours = {}\n",
    "\n",
    "for current_year in range(year_span_begin, year_span_end+1):\n",
    "    year_begin_local = pytz.timezone('Europe/Berlin').localize(datetime.strptime(f\"01.01.{current_year}\", \"%d.%m.%Y\"))\n",
    "    year_end_local = pytz.timezone('Europe/Berlin').localize(datetime.strptime(f\"01.01.{current_year+1}\", \"%d.%m.%Y\"))\n",
    "\n",
    "    year_begin_utc = year_begin_local.astimezone(pytz.utc)\n",
    "    year_end_utc = year_end_local.astimezone(pytz.utc)\n",
    "\n",
    "    res = cur.execute(f\"SELECT timeslot_begin, timeslot_end, hours_distribution FROM worktime_hours w WHERE DATETIME(timeslot_begin) >= DATETIME('{year_begin_utc.strftime('%Y-%m-%d %H:%M:%S')}') AND DATETIME(timeslot_begin) < DATETIME('{year_end_utc.strftime('%Y-%m-%d %H:%M:%S')}');\")\n",
    "    results_list = res.fetchall()\n",
    "\n",
    "    worktime_hours[current_year] = results_list\n",
    "\n",
    "con.close()"
   ]
  },
  {
   "attachments": {},
   "cell_type": "markdown",
   "id": "73392272",
   "metadata": {},
   "source": [
    "## get special days"
   ]
  },
  {
   "cell_type": "code",
   "execution_count": null,
   "id": "86c74bd4",
   "metadata": {},
   "outputs": [],
   "source": [
    "from datetime import datetime\n",
    "import pytz\n",
    "import sqlite3\n",
    "import os\n",
    "\n",
    "tribble_db_fqn = f\"{os.getenv('PURRING_TRIBBLE_DATABASE')}\"\n",
    "\n",
    "con = sqlite3.connect(tribble_db_fqn)\n",
    "\n",
    "cur = con.cursor()\n",
    "\n",
    "worktime_special = {}\n",
    "\n",
    "for current_year in range(year_span_begin, year_span_end+1):\n",
    "    year_begin_local = pytz.timezone('Europe/Berlin').localize(datetime.strptime(f\"01.01.{current_year}\", \"%d.%m.%Y\"))\n",
    "    year_end_local = pytz.timezone('Europe/Berlin').localize(datetime.strptime(f\"01.01.{current_year+1}\", \"%d.%m.%Y\"))\n",
    "\n",
    "    year_begin_utc = year_begin_local.astimezone(pytz.utc)\n",
    "    year_end_utc = year_end_local.astimezone(pytz.utc)\n",
    "\n",
    "    res = cur.execute(f\"SELECT timeslot_begin, timeslot_end, worktime_multiplicator, type FROM worktime_special w WHERE DATETIME(timeslot_begin) >= DATETIME('{year_begin_utc.strftime('%Y-%m-%d %H:%M:%S')}') AND DATETIME(timeslot_begin) < DATETIME('{year_end_utc.strftime('%Y-%m-%d %H:%M:%S')}');\")\n",
    "    results_list = res.fetchall()\n",
    "\n",
    "    worktime_special[current_year] = results_list\n",
    "\n",
    "con.close()"
   ]
  },
  {
   "cell_type": "code",
   "execution_count": null,
   "id": "8b5cbe35",
   "metadata": {},
   "outputs": [],
   "source": []
  }
 ],
 "metadata": {
  "kernelspec": {
   "display_name": "Python 3 (ipykernel)",
   "language": "python",
   "name": "python3"
  },
  "language_info": {
   "codemirror_mode": {
    "name": "ipython",
    "version": 3
   },
   "file_extension": ".py",
   "mimetype": "text/x-python",
   "name": "python",
   "nbconvert_exporter": "python",
   "pygments_lexer": "ipython3",
   "version": "3.11.2"
  }
 },
 "nbformat": 4,
 "nbformat_minor": 5
}
