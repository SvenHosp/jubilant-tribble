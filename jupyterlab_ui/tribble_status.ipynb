{
 "cells": [
  {
   "cell_type": "markdown",
   "id": "944e102f-fd56-4240-b7f1-1f87c4b160aa",
   "metadata": {},
   "source": [
    "# Tribble Status\n",
    "\n",
    "shows current status of jubilant tribble application"
   ]
  },
  {
   "cell_type": "markdown",
   "id": "a8c648f2-50d4-4a66-b9c7-88a880bca106",
   "metadata": {},
   "source": [
    "## Open Sessions"
   ]
  },
  {
   "cell_type": "code",
   "execution_count": 7,
   "id": "e2a6a464-3ad4-4d97-a4e2-b96ddff1c37c",
   "metadata": {},
   "outputs": [
    {
     "name": "stdout",
     "output_type": "stream",
     "text": [
      "Folowing Sessions are open:\n",
      "- common\n",
      "- team\n"
     ]
    }
   ],
   "source": [
    "import sqlite3\n",
    "import os\n",
    "\n",
    "tribble_db_fqn = f\"{os.getenv('JUBILANT_TRIBBLE_HOME')}/tribble.db\"\n",
    "\n",
    "con = sqlite3.connect(tribble_db_fqn)\n",
    "\n",
    "cur = con.cursor()\n",
    "\n",
    "res = cur.execute(\"select symbol from (select t_id, symbol, count(timeslot_begin) as count_entries from worktime group by symbol, t_id) where count_entries=1\")\n",
    "results_list = res.fetchall()\n",
    "print('Folowing Sessions are open:')\n",
    "for result in results_list:\n",
    "    print(f\"- {result[0]}\")\n"
   ]
  },
  {
   "cell_type": "code",
   "execution_count": null,
   "id": "d4bceffc-4d28-43b3-b5a2-b70b56bda58f",
   "metadata": {},
   "outputs": [],
   "source": []
  }
 ],
 "metadata": {
  "kernelspec": {
   "display_name": "Python 3 (ipykernel)",
   "language": "python",
   "name": "python3"
  },
  "language_info": {
   "codemirror_mode": {
    "name": "ipython",
    "version": 3
   },
   "file_extension": ".py",
   "mimetype": "text/x-python",
   "name": "python",
   "nbconvert_exporter": "python",
   "pygments_lexer": "ipython3",
   "version": "3.11.2"
  }
 },
 "nbformat": 4,
 "nbformat_minor": 5
}
